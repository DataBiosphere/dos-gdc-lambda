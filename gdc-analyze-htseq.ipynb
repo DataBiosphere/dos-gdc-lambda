{
 "cells": [
  {
   "cell_type": "markdown",
   "metadata": {},
   "source": [
    "# Analyzing GDC Data Using GA4GH DOS"
   ]
  },
  {
   "cell_type": "markdown",
   "metadata": {},
   "source": [
    "In this demonstration we will use a [dos-gdc-lambda](https://github.com/david4096/dos-gdc-lambda/) to access data using GA4GH compliant methods. There is a wealth of public data available for analysis let's see what we get!"
   ]
  },
  {
   "cell_type": "markdown",
   "metadata": {},
   "source": [
    "## Getting a listing of data"
   ]
  },
  {
   "cell_type": "markdown",
   "metadata": {},
   "source": [
    "Using the GA4GH client we can quickly get a listing of available data objects."
   ]
  },
  {
   "cell_type": "code",
   "execution_count": 52,
   "metadata": {},
   "outputs": [
    {
     "name": "stdout",
     "output_type": "stream",
     "text": [
      "Number of Data Objects: 100 \n"
     ]
    }
   ],
   "source": [
    "from ga4gh.dos.client import Client\n",
    "local_client = Client('https://gmyakqsfp8.execute-api.us-west-2.amazonaws.com/api/', config={'validate_responses': False, 'validate_requests': False})\n",
    "client = local_client.client\n",
    "models = local_client.models\n",
    "ListDataObjectsRequest = models.get_model('ListDataObjectsRequest')\n",
    "list_request = client.ListDataObjects(body=ListDataObjectsRequest(page_size=100, page_token=\"2\"))\n",
    "list_response = list_request.result()\n",
    "print(\"Number of Data Objects: {} \".format(len(list_response.data_objects)))"
   ]
  },
  {
   "cell_type": "markdown",
   "metadata": {},
   "source": [
    "### Iterating to get a larger portion of the index"
   ]
  },
  {
   "cell_type": "markdown",
   "metadata": {},
   "source": [
    "Data from GDC are returned following the GA4GH page_size. However, we would like to retrieve more and so pmap function to grab many pages in parallel."
   ]
  },
  {
   "cell_type": "code",
   "execution_count": 53,
   "metadata": {},
   "outputs": [
    {
     "name": "stdout",
     "output_type": "stream",
     "text": [
      "CPU times: user 36.5 s, sys: 6.43 s, total: 42.9 s\n",
      "Wall time: 1min 1s\n"
     ]
    }
   ],
   "source": [
    "data_objects = []\n",
    "page_token = None\n",
    "\n",
    "from pmap import pmap\n",
    "\n",
    "def list_data_objects(page):\n",
    "    list_request = client.ListDataObjects(body=ListDataObjectsRequest(page_size=100, page_token=str(100*page)))\n",
    "    list_response = list_request.result()\n",
    "    page_token = list_response.next_page_token\n",
    "    return list_response.data_objects\n",
    "\n",
    "%time data_objects = list(pmap(list_data_objects, range(1000), threads=16))"
   ]
  },
  {
   "cell_type": "code",
   "execution_count": 54,
   "metadata": {},
   "outputs": [
    {
     "data": {
      "text/plain": [
       "100000"
      ]
     },
     "execution_count": 54,
     "metadata": {},
     "output_type": "execute_result"
    }
   ],
   "source": [
    "data_objects = reduce(lambda x, y: x + y, data_objects)\n",
    "len(data_objects)"
   ]
  },
  {
   "cell_type": "markdown",
   "metadata": {},
   "source": [
    "## Visualizing summary data"
   ]
  },
  {
   "cell_type": "markdown",
   "metadata": {},
   "source": [
    "These data, indexed by the GDC API, are being made available to the GA4GH client using a lambda function which dynamically creates an interoperability layer."
   ]
  },
  {
   "cell_type": "markdown",
   "metadata": {},
   "source": [
    "Let's start by looking at a histogram of the file sizes represented in the portion of the GDC data requested. We'll set the y-axis to log since there are a lot of very small files and a few very large ones."
   ]
  },
  {
   "cell_type": "code",
   "execution_count": 56,
   "metadata": {},
   "outputs": [
    {
     "data": {
      "image/png": "[encoded data removed]",
      "text/plain": [
       "<matplotlib.figure.Figure at 0x7f06278772d0>"
      ]
     },
     "metadata": {},
     "output_type": "display_data"
    }
   ],
   "source": [
    "import matplotlib.pyplot as plt\n",
    "file_sizes = [float(x.size) for x in data_objects]\n",
    "plt.hist(file_sizes, bins=96)\n",
    "plt.title(\"n = {}, {} GB total, mean {} GB\".format(len(file_sizes), str(sum(file_sizes) / 1000000000.0), (sum(file_sizes) / len(file_sizes)) / 1000000000.0 ))\n",
    "plt.yscale('log')\n",
    "plt.show()"
   ]
  },
  {
   "cell_type": "markdown",
   "metadata": {},
   "source": [
    "## Filtering for public data"
   ]
  },
  {
   "cell_type": "markdown",
   "metadata": {},
   "source": [
    "Currently, we rely on metadata from GDC to reason about the access controls on data. We'll also look at the overall picture of these file sizes."
   ]
  },
  {
   "cell_type": "code",
   "execution_count": 57,
   "metadata": {},
   "outputs": [
    {
     "name": "stdout",
     "output_type": "stream",
     "text": [
      "Number of public Data Objects: 46112\n"
     ]
    }
   ],
   "source": [
    "public_data_objects = filter(\n",
    "    lambda x: x['urls'][0]['system_metadata']['access'] == 'open', \n",
    "    data_objects)\n",
    "print('Number of public Data Objects: {}'.format(len(public_data_objects)))"
   ]
  },
  {
   "cell_type": "code",
   "execution_count": 58,
   "metadata": {},
   "outputs": [
    {
     "data": {
      "image/png": "[encoded data removed]",
      "text/plain": [
       "<matplotlib.figure.Figure at 0x7f0627b3f450>"
      ]
     },
     "metadata": {},
     "output_type": "display_data"
    }
   ],
   "source": [
    "file_sizes = [float(x.size) for x in public_data_objects]\n",
    "plt.hist(file_sizes, bins=96)\n",
    "plt.title(\"n = {}, {} GB total, mean {} GB\".format(len(file_sizes), str(sum(file_sizes) / 1000000000.0), (sum(file_sizes) / len(file_sizes)) / 1000000000.0 ))\n",
    "plt.yscale('log')\n",
    "plt.show()"
   ]
  },
  {
   "cell_type": "markdown",
   "metadata": {},
   "source": [
    "Note that we can see immediately that most of the public data are small files, under 100MB."
   ]
  },
  {
   "cell_type": "markdown",
   "metadata": {},
   "source": [
    "## Analyzing data from DOS"
   ]
  },
  {
   "cell_type": "markdown",
   "metadata": {},
   "source": [
    "Counts from data are considerable non-identifiable and public. They let us understand the variety of tumors that exist in this case."
   ]
  },
  {
   "cell_type": "code",
   "execution_count": 60,
   "metadata": {},
   "outputs": [],
   "source": [
    "public_htseq_counts = filter(\n",
    "    lambda x: x.name.endswith('.htseq.counts.gz'), \n",
    "    public_data_objects)"
   ]
  },
  {
   "cell_type": "code",
   "execution_count": 61,
   "metadata": {},
   "outputs": [
    {
     "data": {
      "text/plain": [
       "3861"
      ]
     },
     "execution_count": 61,
     "metadata": {},
     "output_type": "execute_result"
    }
   ],
   "source": [
    "len(public_htseq_counts)"
   ]
  },
  {
   "cell_type": "code",
   "execution_count": 62,
   "metadata": {},
   "outputs": [
    {
     "data": {
      "text/plain": [
       "[u'81cab804-bfb1-44f0-ac2d-923e0766ac61.htseq.counts.gz',\n",
       " u'155f0f8e-9af5-452a-92ee-8b49d5df864e.htseq.counts.gz',\n",
       " u'49b5b772-6a7b-4aae-a9ed-8a95a0d9a28d.htseq.counts.gz',\n",
       " u'f9dc7237-e186-40e8-ab4c-d142dba7cf3d.htseq.counts.gz',\n",
       " u'86d7188b-2d97-4dca-b033-34778e5a6aa1.htseq.counts.gz',\n",
       " u'47bbb512-ac1b-46d5-b7b1-ce7b5cb4d764.htseq.counts.gz',\n",
       " u'33aef9f8-6144-43e3-bf09-c7cb3677de4a.htseq.counts.gz',\n",
       " u'56a8e5af-7687-4d3f-9f54-e0a6b26406b4.htseq.counts.gz',\n",
       " u'46ffff65-842b-4a22-a1d2-22898b65c463.htseq.counts.gz',\n",
       " u'5c6a718f-8c40-47e7-a746-761b1d5b24b0.htseq.counts.gz']"
      ]
     },
     "execution_count": 62,
     "metadata": {},
     "output_type": "execute_result"
    }
   ],
   "source": [
    "[x.name for x in public_htseq_counts][0:10]"
   ]
  },
  {
   "cell_type": "markdown",
   "metadata": {},
   "source": [
    "We can now download these files in order to analyze them locally using a few simple functions."
   ]
  },
  {
   "cell_type": "code",
   "execution_count": 63,
   "metadata": {},
   "outputs": [],
   "source": [
    "import gzip\n",
    "def unzip_file(zipped, unzipped):\n",
    "    with open(unzipped, 'wb') as f:\n",
    "        with gzip.open(zipped, 'rb') as z:\n",
    "            f.write(z.read())\n",
    "\n",
    "import requests\n",
    "def download_file(url, filename):\n",
    "    # NOTE the stream=True parameter\n",
    "    r = requests.get(url, stream=True)\n",
    "    with open(filename, 'wb') as f:\n",
    "        for chunk in r.iter_content(chunk_size=1024): \n",
    "            if chunk: # filter out keep-alive new chunks\n",
    "                f.write(chunk)\n",
    "                #f.flush() commented by recommendation from J.F.Sebastian\n",
    "    return filename\n",
    "\n",
    "def download_unzip(do):\n",
    "    download_file(do.urls[0].url, do.name)\n",
    "    unzip_file(do.name, do.name.replace('.gz', ''))\n",
    "\n"
   ]
  },
  {
   "cell_type": "code",
   "execution_count": 64,
   "metadata": {},
   "outputs": [],
   "source": [
    "download_unzip(public_htseq_counts[0])"
   ]
  },
  {
   "cell_type": "markdown",
   "metadata": {},
   "source": [
    "We can then load this file and parse it using available means."
   ]
  },
  {
   "cell_type": "markdown",
   "metadata": {},
   "source": [
    "## Loading data directly into pandas"
   ]
  },
  {
   "cell_type": "markdown",
   "metadata": {},
   "source": [
    "`pandas` proves useful when handling tabular data and we can use it here to gather compressed data directly into a dataframe in memory. This reduces the need for disk space."
   ]
  },
  {
   "cell_type": "code",
   "execution_count": 65,
   "metadata": {},
   "outputs": [],
   "source": [
    "import pandas as pd"
   ]
  },
  {
   "cell_type": "code",
   "execution_count": 66,
   "metadata": {},
   "outputs": [],
   "source": [
    "df = pd.read_csv(\n",
    "    public_htseq_counts[1].urls[0].url,\n",
    "    sep='\\t',\n",
    "    compression='gzip',\n",
    "    names=['feature', 'count'])"
   ]
  },
  {
   "cell_type": "code",
   "execution_count": 67,
   "metadata": {},
   "outputs": [
    {
     "data": {
      "image/png": "[encoded data removed]",
      "text/plain": [
       "<matplotlib.figure.Figure at 0x7f0622067910>"
      ]
     },
     "metadata": {},
     "output_type": "display_data"
    }
   ],
   "source": [
    "df.hist(bins=1000)\n",
    "plt.yscale('log')\n",
    "plt.xlim(0, 1000000)\n",
    "plt.show()"
   ]
  },
  {
   "cell_type": "markdown",
   "metadata": {},
   "source": [
    "## Performing a meta-analysis"
   ]
  },
  {
   "cell_type": "markdown",
   "metadata": {},
   "source": [
    "Now that we are able to gather reasonable looking counts, we can perform a meta-analysis. Here we will look at the information content of each sample."
   ]
  },
  {
   "cell_type": "code",
   "execution_count": 68,
   "metadata": {},
   "outputs": [],
   "source": [
    "from skimage.measure import shannon_entropy as se\n",
    "import numpy as np"
   ]
  },
  {
   "cell_type": "code",
   "execution_count": 69,
   "metadata": {},
   "outputs": [
    {
     "data": {
      "text/plain": [
       "10.182270675940829"
      ]
     },
     "execution_count": 69,
     "metadata": {},
     "output_type": "execute_result"
    }
   ],
   "source": [
    "se(np.array([x.count for x in list(df.itertuples())]))"
   ]
  },
  {
   "cell_type": "code",
   "execution_count": 70,
   "metadata": {},
   "outputs": [
    {
     "data": {
      "image/png": "[encoded data removed]",
      "text/plain": [
       "<matplotlib.figure.Figure at 0x7f06273abf50>"
      ]
     },
     "metadata": {},
     "output_type": "display_data"
    },
    {
     "name": "stdout",
     "output_type": "stream",
     "text": [
      "10.0480847028\n"
     ]
    },
    {
     "data": {
      "image/png": "[encoded data removed]",
      "text/plain": [
       "<matplotlib.figure.Figure at 0x7f0627a002d0>"
      ]
     },
     "metadata": {},
     "output_type": "display_data"
    },
    {
     "name": "stdout",
     "output_type": "stream",
     "text": [
      "10.1822706759\n"
     ]
    },
    {
     "data": {
      "image/png": "[encoded data removed]",
      "text/plain": [
       "<matplotlib.figure.Figure at 0x7f0615097990>"
      ]
     },
     "metadata": {},
     "output_type": "display_data"
    },
    {
     "name": "stdout",
     "output_type": "stream",
     "text": [
      "9.67927593081\n"
     ]
    },
    {
     "data": {
      "image/png": "[encoded data removed]",
      "text/plain": [
       "<matplotlib.figure.Figure at 0x7f0615372810>"
      ]
     },
     "metadata": {},
     "output_type": "display_data"
    },
    {
     "name": "stdout",
     "output_type": "stream",
     "text": [
      "8.10808068953\n"
     ]
    },
    {
     "data": {
      "image/png": "[encoded data removed]",
      "text/plain": [
       "<matplotlib.figure.Figure at 0x7f0613486490>"
      ]
     },
     "metadata": {},
     "output_type": "display_data"
    },
    {
     "name": "stdout",
     "output_type": "stream",
     "text": [
      "9.38894976141\n"
     ]
    }
   ],
   "source": [
    "entropies = []\n",
    "for sample in public_htseq_counts[:5]:\n",
    "    sampledf = pd.read_csv(\n",
    "        sample.urls[0].url,\n",
    "        sep='\\t',\n",
    "        compression='gzip',\n",
    "        names=['feature', 'count'])\n",
    "    sampledf.hist(bins=1000)\n",
    "    plt.yscale('log')\n",
    "    plt.xlim(0, 1000000)\n",
    "    plt.show()\n",
    "    entropy = se(np.array([x.count for x in list(sampledf.itertuples())]))\n",
    "    print(entropy)\n",
    "    entropies.append(entropy)"
   ]
  },
  {
   "cell_type": "code",
   "execution_count": 71,
   "metadata": {
    "scrolled": true
   },
   "outputs": [
    {
     "data": {
      "image/png": "[encoded data removed]",
      "text/plain": [
       "<matplotlib.figure.Figure at 0x7f06273ab090>"
      ]
     },
     "metadata": {},
     "output_type": "display_data"
    }
   ],
   "source": [
    "plt.hist(entropies, bins=3)\n",
    "plt.show()"
   ]
  },
  {
   "cell_type": "code",
   "execution_count": null,
   "metadata": {
    "scrolled": true
   },
   "outputs": [],
   "source": [
    "matrix = []\n",
    "count = 0\n",
    "\n",
    "def load_samples(sample):\n",
    "    try:\n",
    "        sampledf = pd.read_csv(\n",
    "            sample.urls[0].url,\n",
    "            sep='\\t',\n",
    "            compression='gzip',\n",
    "            names=['feature', 'count'])\n",
    "    except Exception as e:\n",
    "        print(sample.urls[0].url)\n",
    "    return [x.count for x in list(sampledf.itertuples())]\n",
    "\n",
    "%time matrix = list(pmap(load_samples, public_htseq_counts, threads=32))\n"
   ]
  },
  {
   "cell_type": "code",
   "execution_count": null,
   "metadata": {},
   "outputs": [],
   "source": [
    "len(matrix)"
   ]
  },
  {
   "cell_type": "code",
   "execution_count": null,
   "metadata": {},
   "outputs": [],
   "source": [
    "from sklearn.decomposition import PCA\n",
    "pca_values = PCA(n_components=5).fit_transform(matrix)"
   ]
  },
  {
   "cell_type": "code",
   "execution_count": null,
   "metadata": {},
   "outputs": [],
   "source": [
    "plt.title('pca_5 0_1 htseq_counts, c=entropy')\n",
    "plt.scatter([x[0] for x in pca_values], [x[1] for x in pca_values], s=0.3, c=[se(np.array(x)) for x in matrix])\n",
    "plt.show()\n",
    "plt.title('pca_5 0_2 htseq_counts, c=entropy')\n",
    "\n",
    "plt.scatter([x[0] for x in pca_values], [x[2] for x in pca_values], s=0.3, c=[se(np.array(x)) for x in matrix])\n",
    "plt.show()\n",
    "plt.title('pca_5 0_3 htseq_counts, c=entropy')\n",
    "\n",
    "plt.scatter([x[0] for x in pca_values], [x[3] for x in pca_values], s=0.3, c=[se(np.array(x)) for x in matrix])\n",
    "plt.show()\n",
    "plt.title('pca_5 0_4 htseq_counts, c=entropy')\n",
    "\n",
    "plt.scatter([x[0] for x in pca_values], [x[4] for x in pca_values], s=0.3, c=[se(np.array(x)) for x in matrix])\n",
    "plt.show()\n",
    "plt.title('pca_5 1_0 htseq_counts, c=entropy')\n",
    "\n",
    "plt.scatter([x[1] for x in pca_values], [x[0] for x in pca_values], s=0.3, c=[se(np.array(x)) for x in matrix])\n",
    "plt.show()\n",
    "plt.title('pca_5 1_2 htseq_counts, c=entropy')\n",
    "\n",
    "plt.scatter([x[1] for x in pca_values], [x[2] for x in pca_values], s=0.3, c=[se(np.array(x)) for x in matrix])\n",
    "plt.show()\n",
    "plt.title('pca_5 1_3 htseq_counts, c=entropy')\n",
    "\n",
    "plt.scatter([x[1] for x in pca_values], [x[3] for x in pca_values], s=0.3, c=[se(np.array(x)) for x in matrix])\n",
    "plt.show()\n",
    "plt.title('pca_5 1_4 htseq_counts, c=entropy')\n",
    "\n",
    "plt.scatter([x[1] for x in pca_values], [x[4] for x in pca_values], s=0.3, c=[se(np.array(x)) for x in matrix])\n",
    "plt.show()\n",
    "plt.title('pca_5 2_0 htseq_counts, c=entropy')\n",
    "\n",
    "plt.scatter([x[2] for x in pca_values], [x[0] for x in pca_values], s=0.3, c=[se(np.array(x)) for x in matrix])\n",
    "plt.show()\n",
    "plt.title('pca_5 2_1 htseq_counts, c=entropy')\n",
    "\n",
    "plt.scatter([x[2] for x in pca_values], [x[1] for x in pca_values], s=0.3, c=[se(np.array(x)) for x in matrix])\n",
    "plt.show()\n",
    "plt.title('pca_5 2_3 htseq_counts, c=entropy')\n",
    "\n",
    "plt.scatter([x[2] for x in pca_values], [x[3] for x in pca_values], s=0.3, c=[se(np.array(x)) for x in matrix])\n",
    "plt.show()\n",
    "plt.title('pca_5 2_4 htseq_counts, c=entropy')\n",
    "\n",
    "plt.scatter([x[2] for x in pca_values], [x[4] for x in pca_values], s=0.3, c=[se(np.array(x)) for x in matrix])\n",
    "plt.show()\n",
    "plt.title('pca_5 3_0 htseq_counts, c=entropy')\n",
    "\n",
    "plt.scatter([x[3] for x in pca_values], [x[0] for x in pca_values], s=0.3, c=[se(np.array(x)) for x in matrix])\n",
    "plt.show()\n",
    "plt.title('pca_5 3_1 htseq_counts, c=entropy')\n",
    "\n",
    "plt.scatter([x[3] for x in pca_values], [x[1] for x in pca_values], c=[se(np.array(x)) for x in matrix])\n",
    "plt.show()\n",
    "plt.title('pca_5 3_2 htseq_counts, c=entropy')\n",
    "\n",
    "plt.scatter([x[3] for x in pca_values], [x[2] for x in pca_values], c=[se(np.array(x)) for x in matrix])\n",
    "plt.show()\n",
    "plt.title('pca_5 3_4 htseq_counts, c=entropy')\n",
    "\n",
    "plt.scatter([x[3] for x in pca_values], [x[4] for x in pca_values], c=[se(np.array(x)) for x in matrix])\n",
    "plt.show()\n",
    "plt.title('pca_5 4_0 htseq_counts, c=entropy')\n",
    "\n",
    "plt.scatter([x[4] for x in pca_values], [x[0] for x in pca_values], c=[se(np.array(x)) for x in matrix])\n",
    "plt.show()\n",
    "plt.title('pca_5 4_1 htseq_counts, c=entropy')\n",
    "\n",
    "plt.scatter([x[4] for x in pca_values], [x[1] for x in pca_values], c=[se(np.array(x)) for x in matrix])\n",
    "plt.show()\n",
    "plt.title('pca_5 4_2 htseq_counts, c=entropy')\n",
    "\n",
    "plt.scatter([x[4] for x in pca_values], [x[2] for x in pca_values], c=[se(np.array(x)) for x in matrix])\n",
    "plt.show()\n",
    "plt.title('pca_5 4_3 htseq_counts, c=entropy')\n",
    "\n",
    "plt.scatter([x[4] for x in pca_values], [x[3] for x in pca_values], c=[se(np.array(x)) for x in matrix])\n",
    "plt.show()"
   ]
  },
  {
   "cell_type": "code",
   "execution_count": null,
   "metadata": {},
   "outputs": [],
   "source": [
    "from sklearn.manifold import TSNE\n",
    "%time tsne_values = TSNE(n_components=2, n_iter=500).fit_transform(matrix)\n"
   ]
  },
  {
   "cell_type": "code",
   "execution_count": null,
   "metadata": {},
   "outputs": [],
   "source": [
    "plt.title('tsne_2 htseq_counts, c=entropy')\n",
    "plt.scatter([x[0] for x in tsne_values], [x[1] for x in tsne_values], c=[se(np.array(x)) for x in matrix])\n",
    "plt.show()"
   ]
  },
  {
   "cell_type": "code",
   "execution_count": null,
   "metadata": {},
   "outputs": [],
   "source": [
    "from sklearn.cluster import AgglomerativeClustering"
   ]
  },
  {
   "cell_type": "code",
   "execution_count": null,
   "metadata": {},
   "outputs": [],
   "source": [
    "%time clusters = AgglomerativeClustering(n_clusters=12).fit_predict(pca_values)"
   ]
  },
  {
   "cell_type": "code",
   "execution_count": null,
   "metadata": {},
   "outputs": [],
   "source": [
    "plt.title('tsne_2 htseq_counts, c=entropy')\n",
    "plt.scatter([x[0] for x in tsne_values], [x[1] for x in tsne_values], c=clusters)\n",
    "plt.show()"
   ]
  },
  {
   "cell_type": "markdown",
   "metadata": {},
   "source": [
    "## Entropies by cluster"
   ]
  },
  {
   "cell_type": "code",
   "execution_count": null,
   "metadata": {},
   "outputs": [],
   "source": [
    "plt.hist([se(np.array(x)) for x in matrix])\n",
    "plt.show()"
   ]
  },
  {
   "cell_type": "code",
   "execution_count": null,
   "metadata": {},
   "outputs": [],
   "source": [
    "with_clusters = zip(clusters, matrix)"
   ]
  },
  {
   "cell_type": "code",
   "execution_count": null,
   "metadata": {},
   "outputs": [],
   "source": [
    "entropies = []\n",
    "clusters_list = []\n",
    "for i in range(12):\n",
    "    cluster = np.array([x[1] for x in filter(lambda x: x[0] == i, with_clusters)])\n",
    "    clusters_list.append(cluster)\n",
    "    entropies.append(se(cluster))\n"
   ]
  },
  {
   "cell_type": "code",
   "execution_count": null,
   "metadata": {},
   "outputs": [],
   "source": [
    "plt.hist(entropies, bins=5)\n",
    "plt.show()"
   ]
  },
  {
   "cell_type": "code",
   "execution_count": null,
   "metadata": {},
   "outputs": [],
   "source": [
    "from sklearn.metrics import pairwise_distances"
   ]
  },
  {
   "cell_type": "code",
   "execution_count": null,
   "metadata": {},
   "outputs": [],
   "source": [
    "%time distances = pairwise_distances(matrix[0:1500])"
   ]
  },
  {
   "cell_type": "code",
   "execution_count": null,
   "metadata": {},
   "outputs": [],
   "source": [
    "plt.imshow(distances)\n",
    "plt.show()"
   ]
  },
  {
   "cell_type": "code",
   "execution_count": null,
   "metadata": {},
   "outputs": [],
   "source": [
    "%time distances = pairwise_distances(clusters_list[0])\n"
   ]
  },
  {
   "cell_type": "code",
   "execution_count": null,
   "metadata": {},
   "outputs": [],
   "source": [
    "for i, cluster in enumerate(clusters_list):\n",
    "    plt.title('Pairwise distance within cluster {}'.format(i))\n",
    "    plt.imshow(pairwise_distances(cluster))\n",
    "    plt.show()"
   ]
  },
  {
   "cell_type": "code",
   "execution_count": null,
   "metadata": {},
   "outputs": [],
   "source": [
    "cluster_ordered = [x for x in clusters_list[0]] + \\\n",
    "    [x for x in clusters_list[1]] + \\\n",
    "    [x for x in clusters_list[2]] + \\\n",
    "    [x for x in clusters_list[3]] + \\\n",
    "    [x for x in clusters_list[4]] + \\\n",
    "    [x for x in clusters_list[5]] + \\\n",
    "    [x for x in clusters_list[6]] + \\\n",
    "    [x for x in clusters_list[7]] + \\\n",
    "    [x for x in clusters_list[8]] + \\\n",
    "    [x for x in clusters_list[9]] + \\\n",
    "    [x for x in clusters_list[10]] + \\\n",
    "    [x for x in clusters_list[11]]"
   ]
  },
  {
   "cell_type": "code",
   "execution_count": null,
   "metadata": {},
   "outputs": [],
   "source": [
    "plt.title('Pairwise distance cluster ordered')\n",
    "plt.imshow(pairwise_distances(cluster_ordered[0:1500]))\n",
    "plt.show()"
   ]
  },
  {
   "cell_type": "code",
   "execution_count": null,
   "metadata": {},
   "outputs": [],
   "source": [
    "means = [np.mean(x) for x in matrix]"
   ]
  },
  {
   "cell_type": "code",
   "execution_count": null,
   "metadata": {},
   "outputs": [],
   "source": [
    "plt.title('Mean total expression')\n",
    "plt.hist(means)\n",
    "plt.show()"
   ]
  },
  {
   "cell_type": "code",
   "execution_count": null,
   "metadata": {},
   "outputs": [],
   "source": [
    "plt.title('tsne_2 c=means')\n",
    "plt.scatter([x[0] for x in tsne_values], [x[1] for x in tsne_values], c=means)\n",
    "plt.show()"
   ]
  },
  {
   "cell_type": "code",
   "execution_count": null,
   "metadata": {},
   "outputs": [],
   "source": [
    "plt.title('tsne_2 s=entropy c=means')\n",
    "plt.scatter([x[0] for x in tsne_values], [x[1] for x in tsne_values], s=[se(np.array(x)) for x in matrix], c=means)\n",
    "plt.show()"
   ]
  },
  {
   "cell_type": "code",
   "execution_count": null,
   "metadata": {},
   "outputs": [],
   "source": [
    "#%matplotlib notebook\n",
    "\n",
    "\n",
    "from mpl_toolkits.mplot3d import Axes3D\n",
    "fig = plt.figure()\n",
    "ax = fig.add_subplot(111, projection='3d')\n",
    "ax.scatter([x[0] for x in tsne_values], [x[1] for x in tsne_values], [x[1] for x in pca_values], c=means, marker='o', s=0.3)\n",
    "plt.show()"
   ]
  },
  {
   "cell_type": "code",
   "execution_count": null,
   "metadata": {},
   "outputs": [],
   "source": [
    "%time tsne3_values = TSNE(n_components=3, n_iter=500).fit_transform(matrix)\n"
   ]
  },
  {
   "cell_type": "code",
   "execution_count": null,
   "metadata": {},
   "outputs": [],
   "source": [
    "\n",
    "fig = plt.figure(figsize=(8,8))\n",
    "ax = fig.add_subplot(111, projection='3d')\n",
    "%time clusters = AgglomerativeClustering(n_clusters=7).fit_predict(tsne3_values)\n",
    "with_clusters = \n",
    "ax.scatter([x[0] for x in tsne3_values], [x[1] for x in tsne3_values], [x[2] for x in tsne3_values], c=clusters, marker='o', s=0.3)\n",
    "plt.show()"
   ]
  },
  {
   "cell_type": "code",
   "execution_count": null,
   "metadata": {},
   "outputs": [],
   "source": [
    "from scipy.spatial import ConvexHull\n",
    "clusters_list = []\n",
    "with_clusters = zip(clusters, tsne3_values)\n",
    "for i in range(7):\n",
    "    cluster = np.array([x[1] for x in filter(lambda x: x[0] == i, with_clusters)])\n",
    "    clusters_list.append(cluster)\n",
    "\n",
    "fig = plt.figure(figsize=(8,8))\n",
    "ax = fig.add_subplot(111, projection='3d')\n",
    "colors = ['r', 'g', 'b', 'm', 'c', 'y', 'k']\n",
    "ax.scatter([x[0] for x in tsne3_values], [x[1] for x in tsne3_values], [x[2] for x in tsne3_values], c=clusters, marker='o', s=0.3)\n",
    "for i in range(7):\n",
    "    ax.plot_trisurf([x[0] for x in clusters_list[i]], [x[1] for x in clusters_list[i]], [x[2] for x in clusters_list[i]], color=colors[i])\n",
    "plt.title('tsne3 with concave hull per cluster')\n",
    "plt.show()"
   ]
  },
  {
   "cell_type": "code",
   "execution_count": null,
   "metadata": {},
   "outputs": [],
   "source": []
  },
  {
   "cell_type": "code",
   "execution_count": null,
   "metadata": {},
   "outputs": [],
   "source": []
  }
 ],
 "metadata": {
  "kernelspec": {
   "display_name": "Python 2",
   "language": "python",
   "name": "python2"
  },
  "language_info": {
   "codemirror_mode": {
    "name": "ipython",
    "version": 2
   },
   "file_extension": ".py",
   "mimetype": "text/x-python",
   "name": "python",
   "nbconvert_exporter": "python",
   "pygments_lexer": "ipython2",
   "version": "2.7.12+"
  }
 },
 "nbformat": 4,
 "nbformat_minor": 2
}
