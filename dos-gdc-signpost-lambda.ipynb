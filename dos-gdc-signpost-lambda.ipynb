{
 "cells": [
  {
   "cell_type": "markdown",
   "metadata": {},
   "source": [
    "# GA4GH DOS - GDC Example"
   ]
  },
  {
   "cell_type": "markdown",
   "metadata": {},
   "source": [
    "Data stored in the signpost service are issued identifiers and made available for use in the NCI Genomic Data Commons."
   ]
  },
  {
   "cell_type": "markdown",
   "metadata": {},
   "source": [
    "In an effort to maintain an interoperability layer that is inclusive of all implementations of data access services, we offer the Data Object Service."
   ]
  },
  {
   "cell_type": "markdown",
   "metadata": {},
   "source": [
    "## Design"
   ]
  },
  {
   "cell_type": "markdown",
   "metadata": {},
   "source": [
    "```                                                                                         \n",
    "+------------------+      +--------------+        +-------------------+\n",
    "| ga4gh-dos-client |------|dos-gdc-lambda|--------|api.gdc.cancer.gov |\n",
    "+--------|---------+      +--------------+        +-------------------+\n",
    "         |                        |                                                         \n",
    "         |                        |                                                         \n",
    "         |------------------swagger.json                                                    \n",
    "```"
   ]
  },
  {
   "cell_type": "markdown",
   "metadata": {},
   "source": [
    "For this pilot we have created a lambda that creates a lightweight layer that can be used to access data in signpost using GA4GH libraries."
   ]
  },
  {
   "cell_type": "markdown",
   "metadata": {},
   "source": [
    "There is an example of using Python to [GDC API here](https://docs.gdc.cancer.gov/API/Users_Guide/Getting_Started/)."
   ]
  },
  {
   "cell_type": "markdown",
   "metadata": {},
   "source": [
    "The lambda accepts GA4GH requests and converts them into requests against requisite signpost endpoints. The results are then translated into GA4GH style messages before being returned to the client."
   ]
  },
  {
   "cell_type": "markdown",
   "metadata": {},
   "source": [
    "To make it easy for developers to create clients against this API, the Open API description is made available, which we will see later."
   ]
  },
  {
   "cell_type": "markdown",
   "metadata": {},
   "source": [
    "## Initializing the DOS GA4GH Client"
   ]
  },
  {
   "cell_type": "markdown",
   "metadata": {},
   "source": [
    "* Note, the URLs are subject to change!\n",
    "\n",
    "We begin by initializing the client, which will access the lambda to get the swagger description and may take a moment.\n",
    "\n",
    "To install this client use `pip install git+git://github.com/david4096/data-object-schemas@fixes-cleanup --process-dependency-links`."
   ]
  },
  {
   "cell_type": "code",
   "execution_count": 11,
   "metadata": {},
   "outputs": [],
   "source": [
    "from ga4gh.dos.client import Client\n",
    "local_client = Client('https://gmyakqsfp8.execute-api.us-west-2.amazonaws.com/api/')"
   ]
  },
  {
   "cell_type": "markdown",
   "metadata": {},
   "source": [
    "For convenience, we then initialize a few objects that will make it easier to use the DOS endpoint."
   ]
  },
  {
   "cell_type": "code",
   "execution_count": 12,
   "metadata": {},
   "outputs": [],
   "source": [
    "client = local_client.client\n",
    "models = local_client.models"
   ]
  },
  {
   "cell_type": "markdown",
   "metadata": {},
   "source": [
    "## Listing data from GDC via GA4GH"
   ]
  },
  {
   "cell_type": "markdown",
   "metadata": {},
   "source": [
    "Now that we have initialized the DOS client against the DOS-GDC lambda, we can access data using GA4GH methods."
   ]
  },
  {
   "cell_type": "code",
   "execution_count": 13,
   "metadata": {},
   "outputs": [
    {
     "name": "stdout",
     "output_type": "stream",
     "text": [
      "Number of Data Objects: 100 \n"
     ]
    }
   ],
   "source": [
    "ListDataObjectsRequest = models.get_model('ga4ghListDataObjectsRequest')\n",
    "list_request = client.ListDataObjects(body=ListDataObjectsRequest(page_size=100))\n",
    "list_response = list_request.result()\n",
    "print(\"Number of Data Objects: {} \".format(len(list_response.data_objects)))"
   ]
  },
  {
   "cell_type": "code",
   "execution_count": 14,
   "metadata": {},
   "outputs": [
    {
     "name": "stdout",
     "output_type": "stream",
     "text": [
      "[ga4ghURL(system_metadata=protobufStruct(fields=None), url=u'https://api.gdc.cancer.gov/data/8df6b042-a108-4fc8-8419-084250b2418e', user_metadata=None)]\n"
     ]
    }
   ],
   "source": [
    "data_object = client.GetDataObject(\n",
    "    data_object_id=list_response.data_objects[1].id).result().data_object\n",
    "print(data_object.urls)"
   ]
  },
  {
   "cell_type": "markdown",
   "metadata": {},
   "source": [
    "## Downloading data using DOS"
   ]
  },
  {
   "cell_type": "markdown",
   "metadata": {},
   "source": [
    "For publicly available data, we can quickly download the files using the DOS client."
   ]
  },
  {
   "cell_type": "code",
   "execution_count": 15,
   "metadata": {},
   "outputs": [],
   "source": [
    "# https://stackoverflow.com/questions/16694907/how-to-download-large-file-in-python-with-requests-py\n",
    "import requests\n",
    "def download_file(url, filename):\n",
    "    # NOTE the stream=True parameter\n",
    "    r = requests.get(url, stream=True)\n",
    "    with open(filename, 'wb') as f:\n",
    "        for chunk in r.iter_content(chunk_size=1024): \n",
    "            if chunk: # filter out keep-alive new chunks\n",
    "                f.write(chunk)\n",
    "                #f.flush() commented by recommendation from J.F.Sebastian\n",
    "    return filename"
   ]
  },
  {
   "cell_type": "code",
   "execution_count": 16,
   "metadata": {},
   "outputs": [
    {
     "data": {
      "text/plain": [
       "u'8df6b042-a108-4fc8-8419-084250b2418e'"
      ]
     },
     "execution_count": 16,
     "metadata": {},
     "output_type": "execute_result"
    }
   ],
   "source": [
    "download_file(data_object.urls[0].url, data_object.id)"
   ]
  },
  {
   "cell_type": "markdown",
   "metadata": {},
   "source": [
    "## Verifying a checksum"
   ]
  },
  {
   "cell_type": "markdown",
   "metadata": {},
   "source": [
    "Now that we have downloaded a file we can verify the checksum on that file against what is in the DOS record."
   ]
  },
  {
   "cell_type": "code",
   "execution_count": 17,
   "metadata": {},
   "outputs": [],
   "source": [
    "import hashlib\n",
    "# https://stackoverflow.com/questions/3431825/generating-an-md5-checksum-of-a-file\n",
    "def md5(fname):\n",
    "    hash_md5 = hashlib.md5()\n",
    "    with open(fname, \"rb\") as f:\n",
    "        for chunk in iter(lambda: f.read(4096), b\"\"):\n",
    "            hash_md5.update(chunk)\n",
    "    return hash_md5.hexdigest()"
   ]
  },
  {
   "cell_type": "code",
   "execution_count": 18,
   "metadata": {},
   "outputs": [
    {
     "name": "stdout",
     "output_type": "stream",
     "text": [
      "9372f1fec5a04f91428815f3d35e075e\n",
      "9372f1fec5a04f91428815f3d35e075e\n"
     ]
    }
   ],
   "source": [
    "print(md5(data_object.id))\n",
    "print(data_object.checksums[0].checksum)\n",
    "# If these don't match you probably tried to download a controlled access file."
   ]
  },
  {
   "cell_type": "markdown",
   "metadata": {},
   "source": [
    "# Accessing data from signpost"
   ]
  },
  {
   "cell_type": "markdown",
   "metadata": {},
   "source": [
    "```                                                                                         \n",
    "+------------------+      +-------------------+        +----------------------------------+\n",
    "| ga4gh-dos-client |------|dos-signpost-lambda|--------|signpost.opensciencedatacloud.org |\n",
    "+--------|---------+      +-------------------+        +----------------------------------+\n",
    "         |                        |                                                         \n",
    "         |                        |                                                         \n",
    "         |------------------swagger.json                                                    \n",
    "```\n",
    "\n",
    "A lambda similar to that arranged for the GDC public API is create for signpost."
   ]
  },
  {
   "cell_type": "markdown",
   "metadata": {},
   "source": [
    "## Listing data from signpost via GA4GH DOS lambda"
   ]
  },
  {
   "cell_type": "markdown",
   "metadata": {},
   "source": [
    "We'll now instantiate a client that is directed at the lambda service that will make data from `signpost.opensciencedatacloud.org` available.\n",
    "\n",
    "https://github.com/david4096/dos-signpost-lambda"
   ]
  },
  {
   "cell_type": "code",
   "execution_count": 19,
   "metadata": {},
   "outputs": [
    {
     "name": "stdout",
     "output_type": "stream",
     "text": [
      "Number of Data Objects: 10 \n"
     ]
    }
   ],
   "source": [
    "signpost_client = Client('https://wfzf7mc8i2.execute-api.us-west-2.amazonaws.com/api/')\n",
    "client = signpost_client.client\n",
    "\n",
    "ListDataObjectsRequest = models.get_model('ga4ghListDataObjectsRequest')\n",
    "list_request = client.ListDataObjects(body=ListDataObjectsRequest(page_size=10))\n",
    "\n",
    "list_response = list_request.result()\n",
    "print(\"Number of Data Objects: {} \".format(len(list_response.data_objects)))"
   ]
  },
  {
   "cell_type": "markdown",
   "metadata": {},
   "source": [
    "Signpost returns a list of identifers by default, a pattern we can copy using DOS. However, this means that `DataObjects` returned from the list request need to be materialized into full documents."
   ]
  },
  {
   "cell_type": "code",
   "execution_count": 20,
   "metadata": {},
   "outputs": [],
   "source": [
    "data_object = client.GetDataObject(data_object_id=list_response.data_objects[0].id).result().data_object"
   ]
  },
  {
   "cell_type": "code",
   "execution_count": 21,
   "metadata": {},
   "outputs": [
    {
     "name": "stdout",
     "output_type": "stream",
     "text": [
      "[ga4ghURL(system_metadata=None, url=u'https://s3.amazonaws.com/noaa-nexrad-level2/2002/12/31/KBYX/KBYX20021231_203851.gz', user_metadata=None)]\n"
     ]
    }
   ],
   "source": [
    "print(data_object.urls)"
   ]
  },
  {
   "cell_type": "markdown",
   "metadata": {},
   "source": [
    "## Download data from signpost"
   ]
  },
  {
   "cell_type": "markdown",
   "metadata": {},
   "source": [
    "We can reuse the method defined above. This feature will be offered by a standalone [dos-downloader](https://github.com/david4096/dos-downloader)."
   ]
  },
  {
   "cell_type": "code",
   "execution_count": 22,
   "metadata": {},
   "outputs": [
    {
     "data": {
      "text/plain": [
       "u'00000009-abcb-554e-8a9a-4610e946e548'"
      ]
     },
     "execution_count": 22,
     "metadata": {},
     "output_type": "execute_result"
    }
   ],
   "source": [
    "download_file(data_object.urls[0].url, data_object.id)"
   ]
  },
  {
   "cell_type": "markdown",
   "metadata": {},
   "source": [
    "## Verifying data from signpost"
   ]
  },
  {
   "cell_type": "markdown",
   "metadata": {},
   "source": [
    "signpost offers md5 checksums to verify files. Again, we can reuse the function defined above. Checksum verification could be included with any downloader."
   ]
  },
  {
   "cell_type": "code",
   "execution_count": 23,
   "metadata": {},
   "outputs": [
    {
     "name": "stdout",
     "output_type": "stream",
     "text": [
      "f8d7524668e9fb2580b809052e509694\n",
      "f8d7524668e9fb2580b809052e509694\n"
     ]
    }
   ],
   "source": [
    "print(md5(data_object.id))\n",
    "print(data_object.checksums[0].checksum)"
   ]
  },
  {
   "cell_type": "markdown",
   "metadata": {},
   "source": [
    "# Performing an analysis"
   ]
  },
  {
   "cell_type": "markdown",
   "metadata": {},
   "source": [
    "Since some data in the GDC API are publicly available and DOS replicates their metadata, we can access public htseq counts to perform an analysis."
   ]
  },
  {
   "cell_type": "markdown",
   "metadata": {},
   "source": [
    "https://github.com/david4096/dos-gdc-lambda/blob/master/gdc-analyze-htseq.ipynb"
   ]
  },
  {
   "cell_type": "code",
   "execution_count": null,
   "metadata": {},
   "outputs": [],
   "source": []
  }
 ],
 "metadata": {
  "kernelspec": {
   "display_name": "env",
   "language": "python",
   "name": "env"
  },
  "language_info": {
   "codemirror_mode": {
    "name": "ipython",
    "version": 2
   },
   "file_extension": ".py",
   "mimetype": "text/x-python",
   "name": "python",
   "nbconvert_exporter": "python",
   "pygments_lexer": "ipython2",
   "version": "2.7.12+"
  }
 },
 "nbformat": 4,
 "nbformat_minor": 2
}
